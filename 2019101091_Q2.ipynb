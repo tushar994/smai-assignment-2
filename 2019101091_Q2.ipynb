{
 "cells": [
  {
   "cell_type": "markdown",
   "id": "timely-inspection",
   "metadata": {},
   "source": [
    "# Assignment 2 - Question 2\n",
    "The objective of this assignment is to get you familiarize with  the  problem  of  `Dimensionality Reduction`.\n",
    "\n",
    "\n",
    "## Instructions\n",
    "\n",
    "- Write your code and analysis in the indicated cells.\n",
    "- Ensure that this notebook runs without errors when the cells are run in sequence.\n",
    "- Do not attempt to change the contents of other cells.\n",
    "- No inbuilt functions to be used until specified. Libraries allowed (Numpy, matplotlib)\n",
    "\n",
    "## Datasets \n",
    "- The IIIT-CFW is database for the cartoon faces in the wild. The dataset contains 8928 annotated cartoon faces of famous personalities of the world with varying profession. Additional 1000 real faces of the public figure to study cross modal retrieval tasks, such as, Photo2Cartoon retrieval. Ref - https://cvit.iiit.ac.in/research/projects/cvit-projects/cartoonfaces\n",
    "- We have sub sampled the following data for this assignment - Cartoon faces of 8 subjects and approx. 100 images for each subject. \n",
    "\n",
    "## Submission\n",
    "- Ensure that this notebook runs without errors when the cells are run in sequence.\n",
    "- Rename the notebook to `<roll_number>_Q2.ipynb`.\n",
    "- Fill the Name and Roll number in the below markdown"
   ]
  },
  {
   "cell_type": "markdown",
   "id": "6f6269f1",
   "metadata": {},
   "source": [
    "Name: Tushar Jain<br>\n",
    "Roll Number: 2019101091"
   ]
  },
  {
   "cell_type": "code",
   "execution_count": 55,
   "id": "israeli-convergence",
   "metadata": {},
   "outputs": [
    {
     "name": "stdout",
     "output_type": "stream",
     "text": [
      "Requirement already satisfied: scikit-learn in /Users/tusharjain/anaconda3/envs/ml/lib/python3.7/site-packages (1.0.2)\n",
      "Requirement already satisfied: matplotlib in /Users/tusharjain/anaconda3/envs/ml/lib/python3.7/site-packages (3.4.2)\n",
      "Requirement already satisfied: Pillow in /Users/tusharjain/anaconda3/envs/ml/lib/python3.7/site-packages (8.4.0)\n",
      "Requirement already satisfied: numpy>=1.16 in /Users/tusharjain/anaconda3/envs/ml/lib/python3.7/site-packages (from matplotlib) (1.21.5)\n",
      "Requirement already satisfied: python-dateutil>=2.7 in /Users/tusharjain/anaconda3/envs/ml/lib/python3.7/site-packages (from matplotlib) (2.8.2)\n",
      "Requirement already satisfied: cycler>=0.10 in /Users/tusharjain/anaconda3/envs/ml/lib/python3.7/site-packages (from matplotlib) (0.11.0)\n",
      "Requirement already satisfied: pyparsing>=2.2.1 in /Users/tusharjain/anaconda3/envs/ml/lib/python3.7/site-packages (from matplotlib) (3.0.9)\n",
      "Requirement already satisfied: kiwisolver>=1.0.1 in /Users/tusharjain/anaconda3/envs/ml/lib/python3.7/site-packages (from matplotlib) (1.3.1)\n",
      "Requirement already satisfied: six>=1.5 in /Users/tusharjain/anaconda3/envs/ml/lib/python3.7/site-packages (from python-dateutil>=2.7->matplotlib) (1.15.0)\n",
      "Requirement already satisfied: joblib>=0.11 in /Users/tusharjain/anaconda3/envs/ml/lib/python3.7/site-packages (from scikit-learn) (1.1.0)\n",
      "Requirement already satisfied: threadpoolctl>=2.0.0 in /Users/tusharjain/anaconda3/envs/ml/lib/python3.7/site-packages (from scikit-learn) (3.1.0)\n",
      "Requirement already satisfied: scipy>=1.1.0 in /Users/tusharjain/anaconda3/envs/ml/lib/python3.7/site-packages (from scikit-learn) (1.6.2)\n"
     ]
    }
   ],
   "source": [
    "# Installing Pillow Libraries\n",
    "!pip install scikit-learn matplotlib Pillow"
   ]
  },
  {
   "cell_type": "code",
   "execution_count": 217,
   "id": "automated-neighbor",
   "metadata": {},
   "outputs": [],
   "source": [
    "import numpy as np\n",
    "import os\n",
    "from random import randrange\n",
    "from matplotlib import pyplot as plt\n",
    "from PIL import Image\n",
    "import math"
   ]
  },
  {
   "cell_type": "markdown",
   "id": "agricultural-expression",
   "metadata": {},
   "source": [
    "## Load Data"
   ]
  },
  {
   "cell_type": "code",
   "execution_count": 57,
   "id": "suitable-powder",
   "metadata": {},
   "outputs": [],
   "source": [
    "cfw_dict = {\n",
    "    'Amitabhbachan': 0,\n",
    "    'AamirKhan': 1,\n",
    "    'DwayneJohnson': 2,\n",
    "    'AishwaryaRai': 3,\n",
    "    'BarackObama': 4,\n",
    "    'NarendraModi': 5,\n",
    "    'ManmohanSingh': 6,\n",
    "    'VladimirPutin': 7\n",
    "}\n",
    "\n",
    "opt = {\n",
    "    'image_size': 32,\n",
    "    'is_grayscale': False,\n",
    "    'val_split': 0.75\n",
    "}"
   ]
  },
  {
   "cell_type": "code",
   "execution_count": 58,
   "id": "lucky-brazil",
   "metadata": {},
   "outputs": [],
   "source": [
    "def load_image(path):\n",
    "    im = Image.open(path).convert('L' if opt['is_grayscale'] else 'RGB')\n",
    "    im = im.resize((opt['image_size'],opt['image_size']))\n",
    "    im = np.array(im)\n",
    "    im = im/256\n",
    "    return im\n",
    "\n",
    "def display_images(imgs,classes,row=1,col=2,w=32,h=32):\n",
    "    fig=plt.figure(figsize=(8, 8))\n",
    "    for i in range(1, col*row +1):\n",
    "        img = imgs[i-1]\n",
    "        fig.add_subplot(row, col, i)\n",
    "        \n",
    "        if opt['is_grayscale']:\n",
    "            plt.imshow(img , cmap='gray') \n",
    "        else:\n",
    "            plt.imshow(img)\n",
    "        \n",
    "        plt.title(\"Class:{}\".format(classes[i-1]))\n",
    "        plt.axis('off')\n",
    "    plt.show()\n",
    "\n",
    "def load_data(dir_path):\n",
    "    image_list = []\n",
    "    y_list = []\n",
    "    label_dict = cfw_dict\n",
    "    for filename in sorted(os.listdir(dir_path)):\n",
    "        if filename.endswith(\".png\"):\n",
    "            im = load_image(os.path.join(dir_path,filename))\n",
    "            y = filename.split('_')[0]\n",
    "            y = label_dict[y] \n",
    "            image_list.append(im)\n",
    "            y_list.append(y)\n",
    "        else:\n",
    "            continue\n",
    "    image_list = np.array(image_list)\n",
    "    y_list = np.array(y_list)\n",
    "    print(\"Dataset shape:\",image_list.shape)\n",
    "    print(\"Label shape:\",y_list.shape)\n",
    "\n",
    "    return image_list,y_list"
   ]
  },
  {
   "cell_type": "code",
   "execution_count": 59,
   "id": "ceramic-michigan",
   "metadata": {},
   "outputs": [
    {
     "name": "stdout",
     "output_type": "stream",
     "text": [
      "Dataset shape: (672, 32, 32, 3)\n",
      "Label shape: (672,)\n"
     ]
    }
   ],
   "source": [
    "dirpath = './IIIT-CFW/'\n",
    "X,y = load_data(dirpath)"
   ]
  },
  {
   "cell_type": "code",
   "execution_count": 60,
   "id": "colored-lafayette",
   "metadata": {},
   "outputs": [
    {
     "data": {
      "image/png": "[encoded data removed]",
      "text/plain": [
       "<Figure size 576x576 with 6 Axes>"
      ]
     },
     "metadata": {
      "needs_background": "light"
     },
     "output_type": "display_data"
    }
   ],
   "source": [
    "N,H,W = X.shape[0:3]\n",
    "C = 1 if opt['is_grayscale'] else X.shape[3]\n",
    "\n",
    "ind = np.random.randint(0,y.shape[0],6)\n",
    "display_images(X[ind,...],y[ind], row=2,col=3)"
   ]
  },
  {
   "cell_type": "markdown",
   "id": "removed-guarantee",
   "metadata": {},
   "source": [
    "## Dimensionality Reduction\n",
    "- Plot eigen spectrum for the data.\n",
    "\n",
    "Percentage of variance preserved is defined as the fraction of eigen values used. As we include more principal components to describe the data, the percentage of variances preserved under the dimensionality reduction increases. \n",
    "\n",
    "- Plot the percentage of variances vs the number of principal components to validate the above statement.\n",
    "- Try visualizing these eigen vectors. Comment on what these ghost faces represent \n",
    "- Try reconstructing images with your choice of number of principal components and visualize the reconstructed image.\n",
    "\n",
    "Let's define reconstruction error as the frobenius norm of the difference between original and reconstructed image. \n",
    "\n",
    "- Plot the number of principal components vs the corresponding reconstruction error for 5 selected number of principal components of your choice.\n",
    "- Using the two dominant principal values, plot the data with colors showing the labels. What do you observe?\n"
   ]
  },
  {
   "cell_type": "markdown",
   "id": "naughty-adelaide",
   "metadata": {},
   "source": [
    "#### Write a function that gives eigen values and eigen vectors given data"
   ]
  },
  {
   "cell_type": "code",
   "execution_count": 226,
   "id": "d9bb6c5f",
   "metadata": {},
   "outputs": [],
   "source": [
    "from numpy import linalg as LA"
   ]
  },
  {
   "cell_type": "code",
   "execution_count": 299,
   "id": "minus-theta",
   "metadata": {},
   "outputs": [],
   "source": [
    "# write function\n",
    "def transform_X(data):\n",
    "    final_data = []\n",
    "    for x in data:\n",
    "        ele = []\n",
    "        for y in x:\n",
    "            for k in y:\n",
    "                for j in k:\n",
    "                    if(j==None):\n",
    "                        ele.append(0)\n",
    "                    else:\n",
    "                        ele.append(j)\n",
    "        final_data.append(ele)\n",
    "    final_data = np.array(final_data)\n",
    "    return final_data\n",
    "        \n",
    "def transform_X2(data):\n",
    "    final_data = np.reshape(data,(-1,32*32*3))\n",
    "    return final_data\n",
    "\n",
    "def eigen(data):\n",
    "    mean = np.mean(data, axis = 0)\n",
    "    data = data - mean\n",
    "    print(mean.shape)\n",
    "    print(data.shape)\n",
    "    covariance_matrix = np.cov(data, rowvar=False)\n",
    "    print(covariance_matrix.shape)\n",
    "    print(covariance_matrix)\n",
    "    eigen_values,eigen_vectors = LA.eigh(covariance_matrix)\n",
    "    eigen_values,eigen_vectors = eigen_values.real,eigen_vectors.real\n",
    "    eigen_vectors = [x for _, x in sorted(zip(eigen_values, eigen_vectors), reverse=True)]\n",
    "    eigen_values = sorted(eigen_values, reverse=True)\n",
    "    \n",
    "    return np.array(eigen_values),np.array(eigen_vectors)"
   ]
  },
  {
   "cell_type": "code",
   "execution_count": 300,
   "id": "3ab5c6dd",
   "metadata": {},
   "outputs": [],
   "source": [
    "transformed_X = transform_X2(X)"
   ]
  },
  {
   "cell_type": "code",
   "execution_count": 301,
   "id": "984d0d85",
   "metadata": {},
   "outputs": [],
   "source": [
    "MEAN = np.mean(X, axis = 0)"
   ]
  },
  {
   "cell_type": "code",
   "execution_count": 302,
   "id": "3d965798",
   "metadata": {},
   "outputs": [
    {
     "name": "stdout",
     "output_type": "stream",
     "text": [
      "[[0.00390625 0.         0.         ... 0.859375   0.578125   0.27734375]\n",
      " [0.00390625 0.         0.08203125 ... 0.28515625 0.24609375 0.27734375]\n",
      " [0.9765625  0.98046875 0.9609375  ... 0.64453125 0.8203125  0.45703125]\n",
      " ...\n",
      " [0.95703125 0.7421875  0.54296875 ... 0.9921875  0.99609375 0.9765625 ]\n",
      " [0.96484375 0.98046875 0.28125    ... 0.50390625 0.51171875 0.19140625]\n",
      " [0.796875   0.8203125  0.8046875  ... 0.2109375  0.44140625 0.52734375]]\n"
     ]
    }
   ],
   "source": [
    "print(transformed_X)"
   ]
  },
  {
   "cell_type": "code",
   "execution_count": 303,
   "id": "56eb0cb6",
   "metadata": {},
   "outputs": [
    {
     "name": "stdout",
     "output_type": "stream",
     "text": [
      "(3072,)\n",
      "(672, 3072)\n",
      "(3072, 3072)\n",
      "[[0.09416836 0.08631895 0.08103604 ... 0.04221782 0.04142305 0.0425173 ]\n",
      " [0.08631895 0.0962554  0.09226675 ... 0.04173321 0.04545413 0.04559659]\n",
      " [0.08103604 0.09226675 0.10146832 ... 0.04163747 0.04461936 0.04981359]\n",
      " ...\n",
      " [0.04221782 0.04173321 0.04163747 ... 0.09629671 0.08793316 0.08208861]\n",
      " [0.04142305 0.04545413 0.04461936 ... 0.08793316 0.09772433 0.09532329]\n",
      " [0.0425173  0.04559659 0.04981359 ... 0.08208861 0.09532329 0.10708641]]\n"
     ]
    }
   ],
   "source": [
    "eigen_values, eigen_vectors = eigen(transformed_X)"
   ]
  },
  {
   "cell_type": "code",
   "execution_count": 304,
   "id": "3e1ddf14",
   "metadata": {},
   "outputs": [
    {
     "data": {
      "text/plain": [
       "(3072, 3072)"
      ]
     },
     "execution_count": 304,
     "metadata": {},
     "output_type": "execute_result"
    }
   ],
   "source": [
    "eigen_vectors.shape"
   ]
  },
  {
   "cell_type": "code",
   "execution_count": 305,
   "id": "b9c2901a",
   "metadata": {},
   "outputs": [
    {
     "data": {
      "text/plain": [
       "(672, 3072)"
      ]
     },
     "execution_count": 305,
     "metadata": {},
     "output_type": "execute_result"
    }
   ],
   "source": [
    "transformed_X.shape"
   ]
  },
  {
   "cell_type": "code",
   "execution_count": 306,
   "id": "6e2934ce",
   "metadata": {},
   "outputs": [
    {
     "name": "stdout",
     "output_type": "stream",
     "text": [
      "225792.0\n"
     ]
    },
    {
     "data": {
      "text/plain": [
       "4718592.0"
      ]
     },
     "execution_count": 306,
     "metadata": {},
     "output_type": "execute_result"
    }
   ],
   "source": [
    "print(672*672/2)\n",
    "(3072*3072/2)"
   ]
  },
  {
   "cell_type": "code",
   "execution_count": 307,
   "id": "330ea7bd",
   "metadata": {},
   "outputs": [
    {
     "data": {
      "text/plain": [
       "array([ 8.05321772e+01,  1.99819287e+01,  1.29505097e+01, ...,\n",
       "       -7.00250595e-15, -7.16305022e-15, -7.92077642e-15])"
      ]
     },
     "execution_count": 307,
     "metadata": {},
     "output_type": "execute_result"
    }
   ],
   "source": [
    "eigen_values"
   ]
  },
  {
   "cell_type": "code",
   "execution_count": 308,
   "id": "a085336a",
   "metadata": {},
   "outputs": [
    {
     "data": {
      "text/plain": [
       "array([[ 0.00865714,  0.02826681,  0.00405199, ...,  0.0293959 ,\n",
       "        -0.01293336,  0.02169246],\n",
       "       [ 0.01123529,  0.00164394, -0.00352143, ...,  0.02756402,\n",
       "        -0.01334157,  0.02059623],\n",
       "       [ 0.01078854, -0.01368198,  0.01585967, ...,  0.02086738,\n",
       "        -0.01026555,  0.02018243],\n",
       "       ...,\n",
       "       [-0.11635435,  0.00950556,  0.10121203, ...,  0.00936172,\n",
       "        -0.02346326,  0.02493145],\n",
       "       [ 0.00795027,  0.00052231,  0.02061291, ...,  0.0062778 ,\n",
       "        -0.02519623,  0.02397955],\n",
       "       [ 0.        ,  0.        ,  0.        , ...,  0.00362127,\n",
       "        -0.02281108,  0.02292623]])"
      ]
     },
     "execution_count": 308,
     "metadata": {},
     "output_type": "execute_result"
    }
   ],
   "source": [
    "eigen_vectors"
   ]
  },
  {
   "cell_type": "code",
   "execution_count": null,
   "id": "d47b526d",
   "metadata": {},
   "outputs": [],
   "source": []
  },
  {
   "cell_type": "markdown",
   "id": "identified-weight",
   "metadata": {},
   "source": [
    "#### Compute eigen values and plot eigen value spectrum"
   ]
  },
  {
   "cell_type": "code",
   "execution_count": 309,
   "id": "right-turning",
   "metadata": {},
   "outputs": [],
   "source": [
    "# eigen values and spectrum\n",
    "def spectrum(data):\n",
    "    eigen_values,_ = eigen(data)\n",
    "    idx = eigen_values.argsort()\n",
    "#     print(idx)\n",
    "\n",
    "    plt.plot(idx, color='green', marker='D')\n",
    "    plt.ylabel('Eigenspectrum')\n",
    "    plt.show()\n",
    "    "
   ]
  },
  {
   "cell_type": "code",
   "execution_count": 310,
   "id": "4a282f49",
   "metadata": {},
   "outputs": [
    {
     "data": {
      "text/plain": [
       "(32, 32, 3)"
      ]
     },
     "execution_count": 310,
     "metadata": {},
     "output_type": "execute_result"
    }
   ],
   "source": [
    "np.mean(X, axis=0).shape"
   ]
  },
  {
   "cell_type": "code",
   "execution_count": 311,
   "id": "63aec563",
   "metadata": {},
   "outputs": [
    {
     "data": {
      "text/plain": [
       "array([[1, 0, 0],\n",
       "       [0, 2, 0],\n",
       "       [0, 0, 3]])"
      ]
     },
     "execution_count": 311,
     "metadata": {},
     "output_type": "execute_result"
    }
   ],
   "source": [
    "np.diag((1,2,3))"
   ]
  },
  {
   "cell_type": "code",
   "execution_count": 312,
   "id": "66747039",
   "metadata": {},
   "outputs": [
    {
     "data": {
      "text/plain": [
       "0.6666666666666666"
      ]
     },
     "execution_count": 312,
     "metadata": {},
     "output_type": "execute_result"
    }
   ],
   "source": [
    "np.mean(np.diag((1,2,3)))"
   ]
  },
  {
   "cell_type": "code",
   "execution_count": 313,
   "id": "a0e12209",
   "metadata": {},
   "outputs": [
    {
     "name": "stdout",
     "output_type": "stream",
     "text": [
      "(3072,)\n",
      "(672, 3072)\n",
      "(3072, 3072)\n",
      "[[0.09416836 0.08631895 0.08103604 ... 0.04221782 0.04142305 0.0425173 ]\n",
      " [0.08631895 0.0962554  0.09226675 ... 0.04173321 0.04545413 0.04559659]\n",
      " [0.08103604 0.09226675 0.10146832 ... 0.04163747 0.04461936 0.04981359]\n",
      " ...\n",
      " [0.04221782 0.04173321 0.04163747 ... 0.09629671 0.08793316 0.08208861]\n",
      " [0.04142305 0.04545413 0.04461936 ... 0.08793316 0.09772433 0.09532329]\n",
      " [0.0425173  0.04559659 0.04981359 ... 0.08208861 0.09532329 0.10708641]]\n"
     ]
    },
    {
     "data": {
      "image/png": "[encoded data removed]",
      "text/plain": [
       "<Figure size 432x288 with 1 Axes>"
      ]
     },
     "metadata": {
      "needs_background": "light"
     },
     "output_type": "display_data"
    }
   ],
   "source": [
    "spectrum(transformed_X)"
   ]
  },
  {
   "cell_type": "markdown",
   "id": "silent-fitness",
   "metadata": {},
   "source": [
    "#### Plot the percentage of variances vs the number of principal components"
   ]
  },
  {
   "cell_type": "code",
   "execution_count": 314,
   "id": "given-violence",
   "metadata": {},
   "outputs": [
    {
     "name": "stdout",
     "output_type": "stream",
     "text": [
      "(3072,)\n",
      "(672, 3072)\n",
      "(3072, 3072)\n",
      "[[0.09416836 0.08631895 0.08103604 ... 0.04221782 0.04142305 0.0425173 ]\n",
      " [0.08631895 0.0962554  0.09226675 ... 0.04173321 0.04545413 0.04559659]\n",
      " [0.08103604 0.09226675 0.10146832 ... 0.04163747 0.04461936 0.04981359]\n",
      " ...\n",
      " [0.04221782 0.04173321 0.04163747 ... 0.09629671 0.08793316 0.08208861]\n",
      " [0.04142305 0.04545413 0.04461936 ... 0.08793316 0.09772433 0.09532329]\n",
      " [0.0425173  0.04559659 0.04981359 ... 0.08208861 0.09532329 0.10708641]]\n"
     ]
    },
    {
     "data": {
      "image/png": "[encoded data removed]",
      "text/plain": [
       "<Figure size 432x288 with 1 Axes>"
      ]
     },
     "metadata": {
      "needs_background": "light"
     },
     "output_type": "display_data"
    }
   ],
   "source": [
    "# plot variance vs components\n",
    "def find_variance(eigenvalues, num):\n",
    "    return (np.sum(eigenvalues[:num])/np.sum(eigenvalues))*100\n",
    "\n",
    "plot_arr = []\n",
    "eigen_values,_ = eigen(transformed_X)\n",
    "for i in range(len(eigen_values)):\n",
    "    plot_arr.append(find_variance(eigen_values, i))\n",
    "\n",
    "plt.plot(plot_arr, color='green')\n",
    "plt.ylabel('percentage of variance')\n",
    "plt.xlabel('number of principal components')\n",
    "plt.show()"
   ]
  },
  {
   "cell_type": "markdown",
   "id": "handy-affiliation",
   "metadata": {},
   "source": [
    "#### Visualize eigen faces(eigen vectors)"
   ]
  },
  {
   "cell_type": "code",
   "execution_count": 315,
   "id": "524bd822",
   "metadata": {},
   "outputs": [
    {
     "data": {
      "text/plain": [
       "(672, 32, 32, 3)"
      ]
     },
     "execution_count": 315,
     "metadata": {},
     "output_type": "execute_result"
    }
   ],
   "source": [
    "X.shape"
   ]
  },
  {
   "cell_type": "code",
   "execution_count": 320,
   "id": "wicked-malta",
   "metadata": {},
   "outputs": [
    {
     "name": "stdout",
     "output_type": "stream",
     "text": [
      "(3072,)\n",
      "(672, 3072)\n",
      "(3072, 3072)\n",
      "[[0.09416836 0.08631895 0.08103604 ... 0.04221782 0.04142305 0.0425173 ]\n",
      " [0.08631895 0.0962554  0.09226675 ... 0.04173321 0.04545413 0.04559659]\n",
      " [0.08103604 0.09226675 0.10146832 ... 0.04163747 0.04461936 0.04981359]\n",
      " ...\n",
      " [0.04221782 0.04173321 0.04163747 ... 0.09629671 0.08793316 0.08208861]\n",
      " [0.04142305 0.04545413 0.04461936 ... 0.08793316 0.09772433 0.09532329]\n",
      " [0.0425173  0.04559659 0.04981359 ... 0.08208861 0.09532329 0.10708641]]\n",
      "(3072, 32, 32, 3)\n"
     ]
    },
    {
     "data": {
      "image/png": "[encoded data removed]",
      "text/plain": [
       "<Figure size 576x576 with 1 Axes>"
      ]
     },
     "metadata": {
      "needs_background": "light"
     },
     "output_type": "display_data"
    },
    {
     "data": {
      "image/png": "[encoded data removed]",
      "text/plain": [
       "<Figure size 576x576 with 1 Axes>"
      ]
     },
     "metadata": {
      "needs_background": "light"
     },
     "output_type": "display_data"
    },
    {
     "data": {
      "image/png": "[encoded data removed]",
      "text/plain": [
       "<Figure size 576x576 with 1 Axes>"
      ]
     },
     "metadata": {
      "needs_background": "light"
     },
     "output_type": "display_data"
    },
    {
     "data": {
      "image/png": "[encoded data removed]",
      "text/plain": [
       "<Figure size 576x576 with 1 Axes>"
      ]
     },
     "metadata": {
      "needs_background": "light"
     },
     "output_type": "display_data"
    }
   ],
   "source": [
    "\n",
    "# Use the below sample code to visualize the eigen faces and reconstructed images (can write your own function as well)\n",
    "\n",
    "def plot(image,H,W,C,indices):\n",
    "    #indices = [randrange(100)+1 for i in range(5)]\n",
    "    pl = np.reshape(image,(-1,H,W,C))\n",
    "    print(pl.shape)\n",
    "    for i in indices:\n",
    "        display_images([pl[i]], ['unknown'],row = 1, col = 1)\n",
    "#     print(pl.shape)\n",
    "#     plt.figure(figsize=(25,25))\n",
    "#     for c,i in enumerate(indices):\n",
    "#         ele = pl[i]\n",
    "#         minim = np.min(ele)\n",
    "#         maxim = np.max(ele)\n",
    "#         ele = (ele - minim) / (maxim - minim)\n",
    "#         ele = np.clip(ele,0,254)\n",
    "#         plt.subplot(1,12,c+1)\n",
    "#         plt.axis('off')\n",
    "#         plt.imshow(ele,cmap=plt.cm.gray)\n",
    "#     plt.show()\n",
    "\n",
    "indices = [i for i in range(0,20,5)]\n",
    "_, eig_vecs = eigen(transformed_X)\n",
    "\n",
    "plot(eig_vecs + transform_X2(MEAN),32,32,3, indices)\n"
   ]
  },
  {
   "cell_type": "markdown",
   "id": "current-classification",
   "metadata": {},
   "source": [
    "#### Reconstruction "
   ]
  },
  {
   "cell_type": "code",
   "execution_count": 317,
   "id": "b9e4eb51",
   "metadata": {},
   "outputs": [
    {
     "name": "stdout",
     "output_type": "stream",
     "text": [
      "(3072,)\n",
      "(672, 3072)\n",
      "(3072, 3072)\n",
      "[[0.09416836 0.08631895 0.08103604 ... 0.04221782 0.04142305 0.0425173 ]\n",
      " [0.08631895 0.0962554  0.09226675 ... 0.04173321 0.04545413 0.04559659]\n",
      " [0.08103604 0.09226675 0.10146832 ... 0.04163747 0.04461936 0.04981359]\n",
      " ...\n",
      " [0.04221782 0.04173321 0.04163747 ... 0.09629671 0.08793316 0.08208861]\n",
      " [0.04142305 0.04545413 0.04461936 ... 0.08793316 0.09772433 0.09532329]\n",
      " [0.0425173  0.04559659 0.04981359 ... 0.08208861 0.09532329 0.10708641]]\n",
      "(3072, 3072)\n",
      "(672, 3072)\n"
     ]
    }
   ],
   "source": [
    "_, eig_vecs = eigen(transformed_X)\n",
    "print(eig_vecs.shape)\n",
    "print(transformed_X.shape)"
   ]
  },
  {
   "cell_type": "code",
   "execution_count": 325,
   "id": "sacred-luxembourg",
   "metadata": {},
   "outputs": [
    {
     "name": "stdout",
     "output_type": "stream",
     "text": [
      "(3072,)\n",
      "(672, 3072)\n",
      "(3072, 3072)\n",
      "[[0.09416836 0.08631895 0.08103604 ... 0.04221782 0.04142305 0.0425173 ]\n",
      " [0.08631895 0.0962554  0.09226675 ... 0.04173321 0.04545413 0.04559659]\n",
      " [0.08103604 0.09226675 0.10146832 ... 0.04163747 0.04461936 0.04981359]\n",
      " ...\n",
      " [0.04221782 0.04173321 0.04163747 ... 0.09629671 0.08793316 0.08208861]\n",
      " [0.04142305 0.04545413 0.04461936 ... 0.08793316 0.09772433 0.09532329]\n",
      " [0.0425173  0.04559659 0.04981359 ... 0.08208861 0.09532329 0.10708641]]\n",
      "(1, 32, 32, 3)\n"
     ]
    },
    {
     "data": {
      "image/png": "[encoded data removed]",
      "text/plain": [
       "<Figure size 576x576 with 1 Axes>"
      ]
     },
     "metadata": {
      "needs_background": "light"
     },
     "output_type": "display_data"
    },
    {
     "name": "stderr",
     "output_type": "stream",
     "text": [
      "Clipping input data to the valid range for imshow with RGB data ([0..1] for floats or [0..255] for integers).\n"
     ]
    },
    {
     "name": "stdout",
     "output_type": "stream",
     "text": [
      "(1, 32, 32, 3)\n"
     ]
    },
    {
     "data": {
      "image/png": "[encoded data removed]",
      "text/plain": [
       "<Figure size 576x576 with 1 Axes>"
      ]
     },
     "metadata": {
      "needs_background": "light"
     },
     "output_type": "display_data"
    },
    {
     "name": "stdout",
     "output_type": "stream",
     "text": [
      "(1, 32, 32, 3)\n"
     ]
    },
    {
     "data": {
      "image/png": "[encoded data removed]",
      "text/plain": [
       "<Figure size 576x576 with 1 Axes>"
      ]
     },
     "metadata": {
      "needs_background": "light"
     },
     "output_type": "display_data"
    },
    {
     "name": "stderr",
     "output_type": "stream",
     "text": [
      "Clipping input data to the valid range for imshow with RGB data ([0..1] for floats or [0..255] for integers).\n"
     ]
    },
    {
     "name": "stdout",
     "output_type": "stream",
     "text": [
      "(1, 32, 32, 3)\n"
     ]
    },
    {
     "data": {
      "image/png": "[encoded data removed]",
      "text/plain": [
       "<Figure size 576x576 with 1 Axes>"
      ]
     },
     "metadata": {
      "needs_background": "light"
     },
     "output_type": "display_data"
    },
    {
     "name": "stdout",
     "output_type": "stream",
     "text": [
      "(1, 32, 32, 3)\n"
     ]
    },
    {
     "data": {
      "image/png": "[encoded data removed]",
      "text/plain": [
       "<Figure size 576x576 with 1 Axes>"
      ]
     },
     "metadata": {
      "needs_background": "light"
     },
     "output_type": "display_data"
    },
    {
     "name": "stderr",
     "output_type": "stream",
     "text": [
      "Clipping input data to the valid range for imshow with RGB data ([0..1] for floats or [0..255] for integers).\n"
     ]
    },
    {
     "name": "stdout",
     "output_type": "stream",
     "text": [
      "(1, 32, 32, 3)\n"
     ]
    },
    {
     "data": {
      "image/png": "[encoded data removed]",
      "text/plain": [
       "<Figure size 576x576 with 1 Axes>"
      ]
     },
     "metadata": {
      "needs_background": "light"
     },
     "output_type": "display_data"
    }
   ],
   "source": [
    "# reconstruction\n",
    "def find_new_vec(image, eigen_vectors):\n",
    "    new_vec = []\n",
    "    for i in range(len(eigen_vectors)):\n",
    "        num = (np.dot(image,eigen_vectors[i])/math.sqrt(np.dot(eigen_vectors[i],eigen_vectors[i])))\n",
    "        new_vec.append(num)\n",
    "    reconstructed_vector = (new_vec[0]*eigen_vectors[0])/(math.sqrt(np.dot(eigen_vectors[0],eigen_vectors[0])))\n",
    "    for i in range(1,len(eigen_vectors)):\n",
    "        reconstructed_vector += (new_vec[i]*eigen_vectors[i])/(math.sqrt(np.dot(eigen_vectors[i],eigen_vectors[i])))\n",
    "    return reconstructed_vector\n",
    "_, eig_vecs = eigen(transformed_X)\n",
    "\n",
    "for i in range(3):\n",
    "    new_vec = find_new_vec(transformed_X[i], eig_vecs)\n",
    "    new_vec = new_vec + transform_X2(MEAN)\n",
    "    plot([transformed_X[i]],32,32,3,[0])\n",
    "    plot([new_vec],32,32,3,[0])\n"
   ]
  },
  {
   "cell_type": "markdown",
   "id": "fluid-venice",
   "metadata": {},
   "source": [
    "#### Plot data in 2D"
   ]
  },
  {
   "cell_type": "code",
   "execution_count": 12,
   "id": "exempt-terrace",
   "metadata": {},
   "outputs": [],
   "source": [
    "# plot data in 2D"
   ]
  },
  {
   "cell_type": "markdown",
   "id": "animal-double",
   "metadata": {},
   "source": [
    "## Lets analyze the principal components classwise\n",
    "- Visualize dominant eigen faces of each of the classes.\n",
    "- Print the number of principal components required to retain 90% variance for each of the classes and for the entire dataset\n",
    "- Are the number of components same for entire dataset and each of the classes. If yes why? If not why?\n",
    "\n",
    "Example output:\n",
    "```\n",
    "Number of principal components required for 90% reconstruction of the:\n",
    "Entire Dataset = 10 \n",
    "Amitabhbachan = 10\n",
    "AamirKhan = 10\n",
    "...\n",
    "```"
   ]
  },
  {
   "cell_type": "code",
   "execution_count": 13,
   "id": "composed-administration",
   "metadata": {},
   "outputs": [
    {
     "name": "stdout",
     "output_type": "stream",
     "text": [
      "Dataset shape: (672, 32, 32, 3)\n",
      "Label shape: (672,)\n"
     ]
    }
   ],
   "source": [
    "# Load data again\n",
    "X,y = load_data(dirpath)"
   ]
  },
  {
   "cell_type": "markdown",
   "id": "exact-pathology",
   "metadata": {},
   "source": [
    "#### Visualize dominant eigen faces of each of the classes"
   ]
  },
  {
   "cell_type": "code",
   "execution_count": 14,
   "id": "damaged-glucose",
   "metadata": {},
   "outputs": [],
   "source": [
    "# visualize"
   ]
  },
  {
   "cell_type": "markdown",
   "id": "received-branch",
   "metadata": {},
   "source": [
    "#### Number of principal components required to retain 90% variance for each of the classes and for the entire dataset"
   ]
  },
  {
   "cell_type": "code",
   "execution_count": 15,
   "id": "transparent-passion",
   "metadata": {},
   "outputs": [],
   "source": [
    "# components required"
   ]
  },
  {
   "cell_type": "markdown",
   "id": "offshore-allocation",
   "metadata": {},
   "source": [
    "#### Analysis : Are the number of components same for entire dataset and each of the classes. If yes why? If not why?"
   ]
  },
  {
   "cell_type": "code",
   "execution_count": 16,
   "id": "matched-defeat",
   "metadata": {},
   "outputs": [],
   "source": [
    "# observation/analysis"
   ]
  },
  {
   "cell_type": "markdown",
   "id": "minimal-clock",
   "metadata": {},
   "source": [
    "## Linear Regression (continued)\n",
    "1. Perform linear regression on below datapoints\n",
    "2. Use PCA for dimensionality reduction on this datapoints and then perform Linear regression.\n",
    "3. Perform this experiment on different number of components and report the score for linear regression. Plot the graph of [1-200] principal components vs regression score. What do you observe?\n",
    "\n",
    "Note :- Can use inbuilt functions for Linear Regression and PCA for this question"
   ]
  },
  {
   "cell_type": "code",
   "execution_count": 17,
   "id": "expanded-forwarding",
   "metadata": {},
   "outputs": [
    {
     "name": "stdout",
     "output_type": "stream",
     "text": [
      "Dataset shape: (672, 32, 32, 3)\n",
      "Label shape: (672,)\n",
      "(672,)\n"
     ]
    }
   ],
   "source": [
    "# datapoints\n",
    "X,_ = load_data(dirpath)\n",
    "X = X.reshape((X.shape[0],-1))\n",
    "label = np.array([randrange((32*32*3)) for i in range(5)])\n",
    "label = np.mean(X[:,label], axis = 1)\n",
    "print(label.shape)"
   ]
  },
  {
   "cell_type": "code",
   "execution_count": 18,
   "id": "guided-bones",
   "metadata": {},
   "outputs": [],
   "source": [
    "# code here"
   ]
  },
  {
   "cell_type": "code",
   "execution_count": 19,
   "id": "tracked-hundred",
   "metadata": {},
   "outputs": [],
   "source": [
    "# analysis / plot (split the cells if required)"
   ]
  }
 ],
 "metadata": {
  "kernelspec": {
   "display_name": "Python 3",
   "language": "python",
   "name": "python3"
  },
  "language_info": {
   "codemirror_mode": {
    "name": "ipython",
    "version": 3
   },
   "file_extension": ".py",
   "mimetype": "text/x-python",
   "name": "python",
   "nbconvert_exporter": "python",
   "pygments_lexer": "ipython3",
   "version": "3.7.10"
  }
 },
 "nbformat": 4,
 "nbformat_minor": 5
}
