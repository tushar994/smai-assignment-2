{
 "cells": [
  {
   "cell_type": "markdown",
   "id": "improving-pepper",
   "metadata": {},
   "source": [
    "# Assignment 2 - Question 4\n",
    "The objective of this assignment is to get you familiarize with  the  problem  of  `Linear Regression`.\n",
    "\n",
    "## Instructions\n",
    "- Write your code and analysis in the indicated cells.\n",
    "- Ensure that this notebook runs without errors when the cells are run in sequence.\n",
    "- Do not attempt to change the contents of other cells.\n",
    "- No inbuilt functions to be used until specified\n",
    "\n",
    "## Submission\n",
    "- Ensure that this notebook runs without errors when the cells are run in sequence.\n",
    "- Rename the notebook to `<roll_number>_Q4.ipynb`.\n",
    "- Fill the Name and Roll number in the below markdown"
   ]
  },
  {
   "cell_type": "markdown",
   "id": "6f6269f1",
   "metadata": {},
   "source": [
    "Name: Tushar Jain<br>\n",
    "Roll Number: 2019101091"
   ]
  },
  {
   "cell_type": "markdown",
   "id": "final-transaction",
   "metadata": {},
   "source": [
    "## Background about the dataset\n",
    "\n",
    "TLDR: You have 4 independent variables (`float`) for each molecule. You can use a linear combination of these 4 independent variables to predict the bandgap (dependent variable) of each molecule.\n",
    "\n",
    "You can read more about the problem in [Li et al, Bandgap tuning strategy by cations and halide ions of lead halide perovskites learned from machine learning, RSC Adv., 2021,11, 15688-15694](https://doi.org/10.1039/D1RA03117A)."
   ]
  },
  {
   "cell_type": "code",
   "execution_count": 10,
   "id": "lyric-olympus",
   "metadata": {},
   "outputs": [],
   "source": [
    "import csv\n",
    "import random\n",
    "import numpy as np"
   ]
  },
  {
   "cell_type": "code",
   "execution_count": 11,
   "id": "hundred-receipt",
   "metadata": {},
   "outputs": [],
   "source": [
    "all_molecules = list()\n",
    "\n",
    "with open('bg_data.txt', 'r') as infile:\n",
    "    input_rows = csv.DictReader(infile)\n",
    "    \n",
    "    for row in input_rows:\n",
    "        current_mol = ([float(row['Cs']), float(row['FA']), float(row['Cl']), float(row['Br'])], float(row['Bandgap']))\n",
    "        all_molecules.append(current_mol)\n",
    "\n",
    "random.shuffle(all_molecules)\n",
    "\n",
    "\n",
    "num_train = int(len(all_molecules) * 0.8)\n",
    "\n",
    "# each point in x_train has 4 values - 1 for each feature\n",
    "x_train = [x[0] for x in all_molecules[:num_train]]\n",
    "# each point in y_train has 1 value - the bandgap of the molecule\n",
    "y_train = [x[1] for x in all_molecules[:num_train]]\n",
    "\n",
    "x_test = [x[0] for x in all_molecules[num_train:]]\n",
    "y_test = [x[1] for x in all_molecules[num_train:]]"
   ]
  },
  {
   "cell_type": "markdown",
   "id": "square-direction",
   "metadata": {},
   "source": [
    "### 4.1 Implement a Linear Regression model that minimizes the MSE **without using any libraries**. You may use NumPy to vectorize your code, but *do not use numpy.polyfit* or anything similar.\n",
    "\n",
    "4.1.1 Explain how you plan to implement Linear Regression in 5-10 lines."
   ]
  },
  {
   "cell_type": "markdown",
   "id": "frozen-forth",
   "metadata": {},
   "source": [
    "<!-- your answer to 1.1.1 -->\n",
    "Implement Gradient descent with the derivative of MSE for training, and then use the obtained parameter to predict on test points."
   ]
  },
  {
   "cell_type": "markdown",
   "id": "addressed-winter",
   "metadata": {},
   "source": [
    "4.1.2 Implement Linear Regression using `x_train` and `y_train` as the train dataset.\n",
    "\n",
    "4.1.2.1 Choose the best learning rate and print the learning rate for which you achieved the best MSE."
   ]
  },
  {
   "cell_type": "code",
   "execution_count": 12,
   "id": "angry-depression",
   "metadata": {},
   "outputs": [],
   "source": [
    "# implement Linear Regression\n",
    "class Linear_Regression:\n",
    "    def __init__(self, X, y, learnRate = 0.001):\n",
    "        self.X = []\n",
    "        for i in range(len(X)):\n",
    "            self.X.append(np.append(X[i], 1))\n",
    "        self.y = np.copy(y)\n",
    "        self.m = np.array([0, 0, 0, 0, 0], dtype = float)\n",
    "        self.epochs = 10000\n",
    "        self.learnRate = learnRate\n",
    "\n",
    "    def predict(self,point):\n",
    "        final = np.dot(self.m, point)\n",
    "        return final\n",
    "\n",
    "    def Gd_step(self):\n",
    "        gradient = [0,0,0,0,0]\n",
    "        for i in range(len(self.X)):\n",
    "            gradient -= (self.y[i] - self.predict(self.X[i]))*self.X[i]\n",
    "        return gradient/len(self.X)\n",
    "    \n",
    "    def GD(self):\n",
    "        for i in range(self.epochs):\n",
    "            Db= self.Gd_step()\n",
    "            self.m = self.m - self.learnRate*Db\n",
    "    \n",
    "    def MSE(self):\n",
    "        MSE = 0\n",
    "        for i in range(len(self.X)):\n",
    "            MSE += (self.y[i] - self.predict(self.X[i]))**2\n",
    "        return MSE/len(self.X)"
   ]
  },
  {
   "cell_type": "code",
   "execution_count": 13,
   "id": "a7ec93a4",
   "metadata": {},
   "outputs": [
    {
     "name": "stdout",
     "output_type": "stream",
     "text": [
      "for learnrate = 0.01\n",
      "0.006228438747471271\n",
      "for learnrate = 0.001\n",
      "0.03780571643065648\n",
      "for learnrate = 0.0001\n",
      "0.4694431816228928\n",
      "for learnrate = 0.005\n",
      "0.0067655379205364815\n"
     ]
    }
   ],
   "source": [
    "LR = Linear_Regression(x_train, y_train, learnRate=0.01)\n",
    "LR.GD()\n",
    "print(\"for learnrate = 0.01\")\n",
    "print(LR.MSE())\n",
    "\n",
    "LR = Linear_Regression(x_train, y_train, learnRate=0.001)\n",
    "LR.GD()\n",
    "print(\"for learnrate = 0.001\")\n",
    "print(LR.MSE())\n",
    "\n",
    "LR = Linear_Regression(x_train, y_train, learnRate=0.0001)\n",
    "LR.GD()\n",
    "print(\"for learnrate = 0.0001\")\n",
    "print(LR.MSE())\n",
    "\n",
    "LR = Linear_Regression(x_train, y_train, learnRate=0.005)\n",
    "LR.GD()\n",
    "print(\"for learnrate = 0.005\")\n",
    "print(LR.MSE())"
   ]
  },
  {
   "cell_type": "markdown",
   "id": "angry-tampa",
   "metadata": {},
   "source": [
    "4.1.3 Make a [Parity Plot](https://en.wikipedia.org/wiki/Parity_plot) of your model's bandgap predictions on the test set with the actual values."
   ]
  },
  {
   "cell_type": "code",
   "execution_count": 14,
   "id": "foster-center",
   "metadata": {},
   "outputs": [
    {
     "name": "stdout",
     "output_type": "stream",
     "text": [
      "0.03780571643065648\n"
     ]
    },
    {
     "data": {
      "image/png": "[encoded data removed]",
      "text/plain": [
       "<Figure size 720x1440 with 1 Axes>"
      ]
     },
     "metadata": {
      "needs_background": "light"
     },
     "output_type": "display_data"
    }
   ],
   "source": [
    "LR = Linear_Regression(x_train, y_train)\n",
    "LR.GD()\n",
    "print(LR.MSE())\n",
    "\n",
    "y_pred = [LR.predict(np.append(i,1)) for i in x_test]\n",
    "\n",
    "import matplotlib.pyplot as plt\n",
    "fig, ax = plt.subplots(figsize=(10,20))\n",
    "\n",
    "ax.scatter(y_test, y_pred)\n",
    "\n",
    "lims = [\n",
    "    np.min([ax.get_xlim(), ax.get_ylim()]),\n",
    "    np.max([ax.get_xlim(), ax.get_ylim()]),\n",
    "]\n",
    "ax.plot(lims, lims, 'k-', alpha=0.75, zorder=0)\n",
    "ax.set_aspect('equal')\n",
    "ax.set_xlim(lims)\n",
    "ax.set_ylim(lims)\n",
    "\n",
    "ax.set_title('Parity Plot of Custom Linear Regression')\n",
    "ax.set_xlabel('Ground truth bandgap values')\n",
    "ax.set_ylabel('Predicted bandgap values')\n",
    "plt.show()"
   ]
  },
  {
   "cell_type": "markdown",
   "id": "dominant-chaos",
   "metadata": {},
   "source": [
    "### 4.2 Implement Ridge regression\n",
    "4.2.1 Explain Ridge regression briefly in 1-2 lines."
   ]
  },
  {
   "cell_type": "markdown",
   "id": "happy-cyprus",
   "metadata": {},
   "source": [
    "<!-- Your answer to 1.2.1 -->\n",
    "Ridge Regression is a solution to the low accuracy produced by regression models in the case where the coefficients are highly coorelated. In this, a certain regularization term is added to the MSE and used as the loss function."
   ]
  },
  {
   "cell_type": "markdown",
   "id": "tight-forwarding",
   "metadata": {},
   "source": [
    "4.2.2 Implement Ridge regression and make a table of different RMSE scores you achieved with different values of alpha. What does the parameter `alpha` do? How does it affect the results here? Explain in 5-10 lines in total. (You can use scikit-learn from this cell onwards)"
   ]
  },
  {
   "cell_type": "markdown",
   "id": "d29ebecb",
   "metadata": {},
   "source": [
    "The L2 norm term in ridge regression is weighted by the regularization parameter alpha. This means that the larger is the alpha, the higher is the smoothness constraint. a lower alpha means higher values for the coefficients. \n",
    "\n",
    "Here, you can see that a higher alpha leads to a higher accuracy. This is because a higher alpha makes the model try and only use parameters that are necessary, essentially taking out alot of the noise."
   ]
  },
  {
   "cell_type": "code",
   "execution_count": 15,
   "id": "violent-northern",
   "metadata": {},
   "outputs": [
    {
     "name": "stdout",
     "output_type": "stream",
     "text": [
      "for alpha  0  MSE is  0.0031356969006486723\n",
      "for alpha  0.01  MSE is  0.0031227990661655573\n",
      "for alpha  0.1  MSE is  0.0031280232631327857\n",
      "for alpha  1  MSE is  0.010073997446209702\n"
     ]
    }
   ],
   "source": [
    "# you should not have imported sklearn before this point\n",
    "import sklearn\n",
    "from sklearn.linear_model import Ridge\n",
    "# implement Ridge regression and make a table where you explore the effect of different values of `alpha`\n",
    "def test_Alpha_R(alpha):\n",
    "    clf = Ridge(alpha=alpha)\n",
    "    clf.fit(x_train, y_train)\n",
    "    MSE = np.sum((y_test - clf.predict(x_test))**2)\n",
    "    return MSE/len(x_test)\n",
    "for i in [0,0.01, 0.1, 1]:\n",
    "    print(\"for alpha \", i, \" MSE is \", test_Alpha_R(i))"
   ]
  },
  {
   "cell_type": "markdown",
   "id": "adolescent-temperature",
   "metadata": {},
   "source": [
    "### 4.3 Implement Lasso regression\n",
    "4.3.1 Explain Lasso regression briefly in 1-2 lines."
   ]
  },
  {
   "cell_type": "markdown",
   "id": "bc11365f",
   "metadata": {},
   "source": [
    "This is a linear regression model where a constraint is added that cause the factors for certain features to go to zero. This is done to obtain the subset of predictors that minimizes prediction error."
   ]
  },
  {
   "cell_type": "markdown",
   "id": "popular-wonder",
   "metadata": {},
   "source": [
    "4.3.2 Implement Lasso regression and make a table of different RMSE scores you achieved with different values of alpha. What does the parameter `alpha` do? How does it affect the results here? Explain in 5-10 lines in total."
   ]
  },
  {
   "cell_type": "markdown",
   "id": "6523338b",
   "metadata": {},
   "source": [
    "Alpha is a term that rewards the shrinkage in lasso regression. That is, the higher the alpha, the higher the incentive for the model to shrink parameters to zero. So, if you choose high alphas, in essence, less paramters will be considered.\n",
    "\n",
    "Here, you can see that a higher alpha leads to a higher accuracy. This is because a higher alpha makes the model try and only use parameters that are necessary, essentially taking out alot of the noise."
   ]
  },
  {
   "cell_type": "code",
   "execution_count": 16,
   "id": "extra-brighton",
   "metadata": {},
   "outputs": [
    {
     "name": "stdout",
     "output_type": "stream",
     "text": [
      "for alpha  0  MSE is  0.0031356969006486723\n",
      "for alpha  0.01  MSE is  0.0062443984513051295\n",
      "for alpha  0.1  MSE is  0.21138620366010077\n",
      "for alpha  1  MSE is  0.2161212937940643\n"
     ]
    },
    {
     "name": "stderr",
     "output_type": "stream",
     "text": [
      "/Users/tusharjain/anaconda3/envs/ml/lib/python3.7/site-packages/ipykernel_launcher.py:6: UserWarning: With alpha=0, this algorithm does not converge well. You are advised to use the LinearRegression estimator\n",
      "  \n",
      "/Users/tusharjain/anaconda3/envs/ml/lib/python3.7/site-packages/sklearn/linear_model/_coordinate_descent.py:648: UserWarning: Coordinate descent with no regularization may lead to unexpected results and is discouraged.\n",
      "  coef_, l1_reg, l2_reg, X, y, max_iter, tol, rng, random, positive\n",
      "/Users/tusharjain/anaconda3/envs/ml/lib/python3.7/site-packages/sklearn/linear_model/_coordinate_descent.py:648: ConvergenceWarning: Objective did not converge. You might want to increase the number of iterations, check the scale of the features or consider increasing regularisation. Duality gap: 2.698e-01, tolerance: 1.743e-03 Linear regression models with null weight for the l1 regularization term are more efficiently fitted using one of the solvers implemented in sklearn.linear_model.Ridge/RidgeCV instead.\n",
      "  coef_, l1_reg, l2_reg, X, y, max_iter, tol, rng, random, positive\n"
     ]
    }
   ],
   "source": [
    "# implement Lasso regression and make a table where you explore the effect of different values of `alpha`\n",
    "from sklearn.linear_model import Lasso\n",
    "# implement Ridge regression and make a table where you explore the effect of different values of `alpha`\n",
    "def test_Alpha_L(alpha):\n",
    "    clf = Lasso(alpha=alpha)\n",
    "    clf.fit(x_train, y_train)\n",
    "    MSE = np.sum((y_test - clf.predict(x_test))**2)\n",
    "    return MSE/len(x_test)\n",
    "for i in [0,0.01, 0.1, 1]:\n",
    "    print(\"for alpha \", i, \" MSE is \", test_Alpha_L(i))"
   ]
  },
  {
   "cell_type": "code",
   "execution_count": null,
   "id": "accompanied-worst",
   "metadata": {},
   "outputs": [],
   "source": []
  }
 ],
 "metadata": {
  "kernelspec": {
   "display_name": "Python 3",
   "language": "python",
   "name": "python3"
  },
  "language_info": {
   "codemirror_mode": {
    "name": "ipython",
    "version": 3
   },
   "file_extension": ".py",
   "mimetype": "text/x-python",
   "name": "python",
   "nbconvert_exporter": "python",
   "pygments_lexer": "ipython3",
   "version": "3.7.10"
  }
 },
 "nbformat": 4,
 "nbformat_minor": 5
}
