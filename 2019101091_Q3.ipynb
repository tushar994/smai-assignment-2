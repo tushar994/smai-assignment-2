{
 "cells": [
  {
   "cell_type": "markdown",
   "id": "389ddf1d",
   "metadata": {},
   "source": [
    "# Assignment 2 - Question 3\n",
    "The objective of this assignment is to get you familiarize with  the  problem  of  `Logistic Regression`.\n",
    "\n",
    "\n",
    "## Instructions\n",
    "- Do not Use Direct Inbuilt functions for the Task.\n",
    "- Numpy or other math libraries are allowed.\n",
    "- Ensure that this notebook runs without errors when the cells are run in sequence.\n",
    "- Do not change the contents of the Given cells. Use new cells to Write your code.\n",
    "\n",
    "\n",
    "## Submission\n",
    "- Ensure that this notebook runs without errors when the cells are run in sequence.\n",
    "- Rename the notebook to `<roll_number>_Q3.ipynb`\n",
    "- Fill the Name and Roll number in the below markdown"
   ]
  },
  {
   "cell_type": "markdown",
   "id": "6f6269f1",
   "metadata": {},
   "source": [
    "Name: Tushar Jain<br>\n",
    "Roll Number: 2019101091"
   ]
  },
  {
   "cell_type": "markdown",
   "id": "850dba90",
   "metadata": {},
   "source": [
    "### Dataset\n",
    "\n",
    "Use the code below to load the Dataset\n"
   ]
  },
  {
   "cell_type": "code",
   "execution_count": 1,
   "id": "225cdbe5",
   "metadata": {},
   "outputs": [],
   "source": [
    "import numpy as np\n",
    "import matplotlib.pyplot as plt\n",
    "import math"
   ]
  },
  {
   "cell_type": "code",
   "execution_count": 2,
   "id": "73ed0112",
   "metadata": {},
   "outputs": [],
   "source": [
    "from sklearn.datasets import make_blobs\n",
    "X, y =  make_blobs(n_samples=100, centers=[[2,4],[4,2]], random_state=20)"
   ]
  },
  {
   "cell_type": "code",
   "execution_count": 3,
   "id": "b2ec2927",
   "metadata": {},
   "outputs": [
    {
     "data": {
      "text/plain": [
       "[<matplotlib.lines.Line2D at 0x7fc85a879250>]"
      ]
     },
     "execution_count": 3,
     "metadata": {},
     "output_type": "execute_result"
    },
    {
     "data": {
      "image/png": "[encoded data removed]",
      "text/plain": [
       "<Figure size 432x288 with 1 Axes>"
      ]
     },
     "metadata": {
      "needs_background": "light"
     },
     "output_type": "display_data"
    }
   ],
   "source": [
    "#Visualize dataset \n",
    "plt.plot(X[:,0][y==0],X[:,1][y==0],'o',color='red')\n",
    "plt.plot(X[:,0][y==1],X[:,1][y==1],'^',color='blue')\n"
   ]
  },
  {
   "cell_type": "markdown",
   "id": "43326e6b",
   "metadata": {},
   "source": [
    "Write your code below for logistic regression with Gradient Descent and plot the decision boundary.<br>\n",
    "Sample output is given in the file `LogisticRegression_sample_result.png`"
   ]
  },
  {
   "cell_type": "code",
   "execution_count": 1,
   "id": "a193966a",
   "metadata": {},
   "outputs": [],
   "source": [
    "class Logistic_Regression:\n",
    "    def __init__(self, X, y):\n",
    "        self.X = X\n",
    "        self.y = y\n",
    "        self.b = np.array([0, 0, 0], dtype = float)\n",
    "        self.epochs = 10000\n",
    "        self.learnRate = 0.001\n",
    "\n",
    "    def predict(self,point):\n",
    "        point = np.append(point, 1)\n",
    "        final = 1/(1+ math.exp(-(np.transpose(np.array(self.b)).dot(np.array(point)))))\n",
    "        return final\n",
    "\n",
    "    def Gd_step(self):\n",
    "        y_pred = []\n",
    "        for i in range(0,len(self.X)):\n",
    "            y_pred.append(self.predict(self.X[i]))\n",
    "        len_X = len(self.X)\n",
    "        final = np.append(((1/len_X)*np.dot(self.X.T, (y_pred - self.y))), (1/len_X)*np.sum((y_pred - self.y)))\n",
    "        return final\n",
    "    \n",
    "    def GD(self):\n",
    "        for i in range(self.epochs):\n",
    "            Db= self.Gd_step()\n",
    "            self.b = self.b - self.learnRate*Db\n",
    "        "
   ]
  },
  {
   "cell_type": "code",
   "execution_count": 5,
   "id": "f3515c8d",
   "metadata": {},
   "outputs": [],
   "source": [
    "Regressor = Logistic_Regression(X,y)\n",
    "Regressor.GD()\n"
   ]
  },
  {
   "cell_type": "code",
   "execution_count": 6,
   "id": "05ba3dce",
   "metadata": {},
   "outputs": [
    {
     "data": {
      "text/plain": [
       "Text(0, 0.5, 'Feature 2')"
      ]
     },
     "execution_count": 6,
     "metadata": {},
     "output_type": "execute_result"
    },
    {
     "data": {
      "image/png": "[encoded data removed]",
      "text/plain": [
       "<Figure size 432x288 with 1 Axes>"
      ]
     },
     "metadata": {
      "needs_background": "light"
     },
     "output_type": "display_data"
    }
   ],
   "source": [
    "b = Regressor.b\n",
    "x_line = np.linspace(0, 6, 1000)\n",
    "y_line = [ (-1*i*(b[0]/b[1]) + b[2]) for i in x_line ]\n",
    "\n",
    "plt.plot(X[:,0][y==0],X[:,1][y==0],'o',color='red')\n",
    "plt.plot(X[:,0][y==1],X[:,1][y==1],'^',color='blue')\n",
    "plt.plot(x_line, y_line, color = \"green\")\n",
    "plt.xlabel(\"Feature 1\")\n",
    "plt.ylabel(\"Feature 2\")"
   ]
  },
  {
   "cell_type": "markdown",
   "id": "c1f2b4c5",
   "metadata": {},
   "source": [
    "### Questions\n",
    "\n",
    "1) Explain the approach of Logistic Regression.<br>\n",
    "2) What is the loss function used?<br>\n",
    "3) Explain if we can use Mean Square Error(MSE) as Loss function."
   ]
  },
  {
   "cell_type": "markdown",
   "id": "d3a7bd74",
   "metadata": {},
   "source": [
    "**1) Explain the approach of Logistic Regression.**\n",
    "\n",
    "In this method, we do binary classification by drawing a linear boundary that seperates the two classes. This linear boundary is found by optimising a loss function. In the above code we have use gradient descent to optimise the loss function."
   ]
  },
  {
   "cell_type": "markdown",
   "id": "5d1fcd04",
   "metadata": {},
   "source": [
    "**2) What is the loss function used?**\n",
    "\n",
    "Log loss is the name of the loss function used in logistic regression."
   ]
  },
  {
   "cell_type": "markdown",
   "id": "fc75f921",
   "metadata": {},
   "source": [
    "**3) Explain if we can use Mean Square Error(MSE) as Loss function.**\n",
    "\n",
    "No, we cannot use MSE here, as it is non-convex."
   ]
  }
 ],
 "metadata": {
  "kernelspec": {
   "display_name": "Python 3",
   "language": "python",
   "name": "python3"
  },
  "language_info": {
   "codemirror_mode": {
    "name": "ipython",
    "version": 3
   },
   "file_extension": ".py",
   "mimetype": "text/x-python",
   "name": "python",
   "nbconvert_exporter": "python",
   "pygments_lexer": "ipython3",
   "version": "3.7.10"
  }
 },
 "nbformat": 4,
 "nbformat_minor": 5
}
