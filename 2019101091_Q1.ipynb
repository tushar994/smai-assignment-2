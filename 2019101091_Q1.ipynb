{
 "cells": [
  {
   "cell_type": "markdown",
   "id": "186be3d3",
   "metadata": {},
   "source": [
    "# Assignment 2 - Question 1\n",
    "The objective of this assignment is to get you familiarize with  the  problem  of  `KNN Classifiers`.\n",
    "\n",
    "\n",
    "## Instructions\n",
    "- Do not Use Direct Inbuilt functions for the Task.\n",
    "- Numpy or other math libraries are allowed \n",
    "- Ensure that this notebook runs without errors when the cells are run in sequence.\n",
    "- Do not change the contents of the Given cells. Use new cells to Write your code.\n",
    "\n",
    "\n",
    "## Submission\n",
    "- Ensure that this notebook runs without errors when the cells are run in sequence.\n",
    "- Rename the notebook to `<roll_number>_Q1.ipynb`\n",
    "- Fill the Name and Roll number in the below markdown"
   ]
  },
  {
   "cell_type": "markdown",
   "id": "6f6269f1",
   "metadata": {},
   "source": [
    "Name: Tushar Jain<br>\n",
    "Roll Number: 2019101091"
   ]
  },
  {
   "cell_type": "markdown",
   "id": "edeabff5",
   "metadata": {},
   "source": [
    "### Dataset\n",
    "\n",
    "Use the code below to load the Dataset"
   ]
  },
  {
   "cell_type": "code",
   "execution_count": 8,
   "id": "a8e48450",
   "metadata": {},
   "outputs": [
    {
     "name": "stdout",
     "output_type": "stream",
     "text": [
      "Populating the interactive namespace from numpy and matplotlib\n"
     ]
    }
   ],
   "source": [
    "%pylab inline"
   ]
  },
  {
   "cell_type": "code",
   "execution_count": 9,
   "id": "69cac090",
   "metadata": {},
   "outputs": [],
   "source": [
    "import numpy as np\n",
    "import pandas as pd\n",
    "from sklearn.model_selection import train_test_split"
   ]
  },
  {
   "cell_type": "code",
   "execution_count": 10,
   "id": "e0fa6912",
   "metadata": {},
   "outputs": [],
   "source": [
    "#Load data\n",
    "iris = pd.read_csv('Iris.csv')\n",
    "#data cleaning\n",
    "iris.drop(columns=\"Id\",inplace=True)"
   ]
  },
  {
   "cell_type": "code",
   "execution_count": 11,
   "id": "1ca8135b",
   "metadata": {},
   "outputs": [],
   "source": [
    "#features and labels\n",
    "X=iris.iloc[:,0:4].values\n",
    "y=iris.iloc[:,4].values\n",
    "\n",
    "#Train and Test split\n",
    "X_train,X_test,y_train,y_test=train_test_split(X,y,test_size=0.2,random_state=0)"
   ]
  },
  {
   "cell_type": "markdown",
   "id": "d14014cb",
   "metadata": {},
   "source": [
    "Write your Code below for KNN Classifier.<br>\n",
    "Use different values of K and test the accuracies."
   ]
  },
  {
   "cell_type": "code",
   "execution_count": 12,
   "id": "6ca8c19d",
   "metadata": {},
   "outputs": [],
   "source": [
    "class KNN_classifier:\n",
    "    def __init__(self, k):\n",
    "        self.x = 0\n",
    "        self.y = 0\n",
    "        self.k = k\n",
    "    \n",
    "    def train(self, x_input, y_input):\n",
    "        self.x = x_input\n",
    "        self.y = y_input\n",
    "        return\n",
    "    \n",
    "    def mode(self, input_in):\n",
    "        # Finds the mode in an array\n",
    "        input_in.sort()\n",
    "        cur = input_in[0]\n",
    "        cur_val = 1\n",
    "        actual = input_in[0]\n",
    "        actual_val = 1\n",
    "        for i in range(1,len(input_in)):\n",
    "            if(input_in[i]==cur):\n",
    "                cur_val+=1\n",
    "            else:\n",
    "                if(cur_val>actual_val):\n",
    "                    actual_val = cur_val\n",
    "                    cur = actual\n",
    "        if(cur_val>actual_val):\n",
    "            actual_val = cur_val\n",
    "            cur = actual\n",
    "        return cur\n",
    "            \n",
    "    \n",
    "    def point_pred(self, point_in):\n",
    "        # Predicts the y for given input\n",
    "        # Make all the (dist, class) pairs for the input point\n",
    "        dist_class = []\n",
    "        for num in range(0, len(self.x)):\n",
    "            dist_class.append([ np.linalg.norm(point_in-self.x[num]), self.y[num] ])\n",
    "        \n",
    "        # Select the first \"k\" (dist, class) pairs sorted by dist\n",
    "        dist_class = sorted(dist_class)[:self.k]\n",
    "\n",
    "        # return the predicted class\n",
    "        return self.mode([i[1] for i in dist_class])\n",
    "    \n",
    "    def accuracy(self, x_input, y_input):\n",
    "        y_pred = [self.point_pred(i) for i in x_input]\n",
    "        count = 0\n",
    "        for num in range(0, len(y_pred)):\n",
    "            if y_pred[num] == y_input[num]:\n",
    "                count += 1\n",
    "        return (count/len(y_input))*100"
   ]
  },
  {
   "cell_type": "code",
   "execution_count": 13,
   "id": "e8431368",
   "metadata": {},
   "outputs": [],
   "source": [
    "fin = []\n",
    "for i in range(1, 10):\n",
    "    model = KNN_classifier(i)\n",
    "    model.train(X_train, y_train)\n",
    "    fin.append(model.accuracy(X_test, y_test))"
   ]
  },
  {
   "cell_type": "code",
   "execution_count": 14,
   "id": "e72e267d",
   "metadata": {},
   "outputs": [
    {
     "data": {
      "text/plain": [
       "Text(0, 0.5, 'Accuracy')"
      ]
     },
     "execution_count": 14,
     "metadata": {},
     "output_type": "execute_result"
    },
    {
     "data": {
      "image/png": "[encoded data removed]",
      "text/plain": [
       "<Figure size 432x288 with 1 Axes>"
      ]
     },
     "metadata": {
      "needs_background": "light"
     },
     "output_type": "display_data"
    }
   ],
   "source": [
    "plot(range(1, 10), fin)\n",
    "xlabel(\"k Values\")\n",
    "ylabel(\"Accuracy\")"
   ]
  },
  {
   "cell_type": "markdown",
   "id": "1c3ac0ca",
   "metadata": {},
   "source": [
    "### Questions\n",
    "\n",
    "1) What are the Advantages and Disadvantages of KNN algorithm?<br>\n",
    "2) What is the complexity of the KNN algorithm during Training and Testing?<br> \n",
    "3) Is euclidian distance the only distance metric used in KNN? \n",
    "4) what K value gave the best accuracy?"
   ]
  },
  {
   "cell_type": "markdown",
   "id": "47958869",
   "metadata": {},
   "source": []
  },
  {
   "cell_type": "markdown",
   "id": "3fc75a79",
   "metadata": {},
   "source": [
    "**1) What are the Advantages and Disadvantages of KNN algorithm?<br>** \n",
    "**Advantages**\n",
    "- Easy to Implement\n",
    "- Easy to Explain\n",
    "- No Training Time\n",
    "\n",
    "**Disadvantages**\n",
    "- Computationally expensive to use, as you have to find te distance with every point in the dataset\n",
    "- It is sensitive to noisy and missing data\n",
    "- Computationally more expensive with high dimensionality\n",
    "- Have to refactor every dimension"
   ]
  },
  {
   "cell_type": "markdown",
   "id": "417b4b16",
   "metadata": {},
   "source": [
    "**2) What is the complexity of the KNN algorithm during Training and Testing?**\n",
    "\n",
    "**Training**\n",
    "\n",
    "This is constant complexity, as you just need to store the data.\n",
    "\n",
    "**Testing**\n",
    "\n",
    "O(dn)\n",
    "where d is the number of dimensions and n is the number of data points in the training set."
   ]
  },
  {
   "cell_type": "markdown",
   "id": "e532a430",
   "metadata": {},
   "source": [
    "**3) Is euclidian distance the only distance metric used in KNN?**\n",
    "\n",
    "No, Other metrics such as Manhattan Distance, Minkowski Distance, Mahalanobis Distance, Hamming Distance, and Cosine Distance can be used instead."
   ]
  },
  {
   "cell_type": "markdown",
   "id": "10f22290",
   "metadata": {},
   "source": [
    "**4) what K value gave the best accuracy?**\n",
    "\n",
    "A K = 1 gave the best accuracy in this case."
   ]
  }
 ],
 "metadata": {
  "kernelspec": {
   "display_name": "Python 3",
   "language": "python",
   "name": "python3"
  },
  "language_info": {
   "codemirror_mode": {
    "name": "ipython",
    "version": 3
   },
   "file_extension": ".py",
   "mimetype": "text/x-python",
   "name": "python",
   "nbconvert_exporter": "python",
   "pygments_lexer": "ipython3",
   "version": "3.7.10"
  }
 },
 "nbformat": 4,
 "nbformat_minor": 5
}
